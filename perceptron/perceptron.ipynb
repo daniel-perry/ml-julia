{
 "metadata": {
  "language": "Julia",
  "name": "",
  "signature": "sha256:8403098fb7e45c84a35c915cbe2e0f4852f6c3acd492bfab9625518c93eb1387"
 },
 "nbformat": 3,
 "nbformat_minor": 0,
 "worksheets": [
  {
   "cells": [
    {
     "cell_type": "markdown",
     "metadata": {},
     "source": [
      "# Perceptron\n",
      "\n",
      "Based on Chapter 1 of \"Learning from Data: A Short Course\"\n",
      "\n",
      "## classifier\n",
      "\n",
      "$h(x) = \\text{sign}(w^T x)$ \n",
      "\n",
      "where $x \\in X = \\{1\\} \\times R^{d} = \\{[x_0,\\ldots,x_d]^T | x_0 = 1, x_1 \\in R, \\ldots, x_d \\in R \\}$\n",
      "\n",
      "If the data set $(x_i, y_i) \\in D$, where $x_i$ is the data point and $y_i$ is the binary classification $y \\in Y = \\{-1,+1\\}$, can be linearly separated then a $w$ can be found such that $y_i = h(x_i), \\forall (x_i,y_i) \\in D$\n",
      "\n",
      "## Perceptron Learning Algorithm (PLA)\n",
      "\n",
      "Until $y_i = h(x_i) \\forall i$, $w_{t+1} = w_t + y_i x_i, \\forall i \\text{ s.t. } y_i \\ne h(x_i)$\n",
      "\n",
      "Note that,\n",
      "\n",
      "* $y_i w^T_t x_i < 0$\n",
      "* $y_i w^T_{t+1} x_i > y_i w^T_t x_i$\n",
      "* $w_{t+1} = w_t + y_i x_i$ is \"a move in the right direction\"\n",
      "\n",
      "Consider the energy function, $E(w_t,x,y) = \\sum_i y_i \\text{sign}(w^T_t x_i)$, which is maximized when all points are correctly classified,\n",
      "\n",
      "$\\frac{ \\partial E }{ \\partial w } \\approx \\sum_i y_i x_i$\n",
      "\n",
      "indicates that the PLA step $w_{t+1} = w_t + y_i x_i$ is steping in the gradient direction, which is \"a move in the right direction\".\n",
      "\n"
     ]
    },
    {
     "cell_type": "code",
     "collapsed": false,
     "input": [
      "using PyPlot"
     ],
     "language": "python",
     "metadata": {},
     "outputs": [
      {
       "output_type": "stream",
       "stream": "stderr",
       "text": [
        "INFO: Loading help data...\n"
       ]
      }
     ],
     "prompt_number": 12
    },
    {
     "cell_type": "markdown",
     "metadata": {},
     "source": [
      "## Generate some data that is linearly separable"
     ]
    },
    {
     "cell_type": "code",
     "collapsed": false,
     "input": [
      "c1 = [-5,-2]\n",
      "D1 = randn(10,2)*2 + ones(10,1)*c1'\n",
      "c2 = [5,2]\n",
      "D2 = randn(10,2)*2 + ones(10,1)*c2'\n",
      "D = [ones(20) [D1; D2]]\n",
      "y = [ones(10); -1*ones(10)]\n",
      "\n",
      "plot(D1[:,1],D1[:,2],\"ro\")\n",
      "hold(:on)\n",
      "plot(D2[:,1],D2[:,2],\"b+\")"
     ],
     "language": "python",
     "metadata": {},
     "outputs": [
      {
       "metadata": {},
       "output_type": "display_data",
       "png": "[encoded data removed]",
       "text": [
        "Figure(PyObject <matplotlib.figure.Figure object at 0x1146024d0>)"
       ]
      },
      {
       "metadata": {},
       "output_type": "pyout",
       "prompt_number": 28,
       "text": [
        "1-element Array{Any,1}:\n",
        " PyObject <matplotlib.lines.Line2D object at 0x114c50450>"
       ]
      }
     ],
     "prompt_number": 28
    },
    {
     "cell_type": "code",
     "collapsed": false,
     "input": [
      "[D y]"
     ],
     "language": "python",
     "metadata": {},
     "outputs": [
      {
       "metadata": {},
       "output_type": "pyout",
       "prompt_number": 30,
       "text": [
        "20x4 Array{Float64,2}:\n",
        " 1.0  -4.68766   0.358691   1.0\n",
        " 1.0  -5.18645  -3.50959    1.0\n",
        " 1.0  -5.19938  -1.47336    1.0\n",
        " 1.0  -3.46683  -4.58769    1.0\n",
        " 1.0  -3.67418   0.233168   1.0\n",
        " 1.0  -4.47334  -3.40176    1.0\n",
        " 1.0  -5.8959   -2.12598    1.0\n",
        " 1.0  -8.0742   -3.58883    1.0\n",
        " 1.0  -5.7666    0.149347   1.0\n",
        " 1.0  -2.97506  -0.694423   1.0\n",
        " 1.0   3.78955  -0.842331  -1.0\n",
        " 1.0   6.02272   2.83102   -1.0\n",
        " 1.0   4.56045   0.4476    -1.0\n",
        " 1.0   6.27679   3.5642    -1.0\n",
        " 1.0   2.75056   4.70278   -1.0\n",
        " 1.0   8.357     2.60472   -1.0\n",
        " 1.0   3.83944   1.33819   -1.0\n",
        " 1.0   2.74907   2.72218   -1.0\n",
        " 1.0   5.54815  -1.97183   -1.0\n",
        " 1.0   5.9011    1.85294   -1.0"
       ]
      }
     ],
     "prompt_number": 30
    },
    {
     "cell_type": "markdown",
     "metadata": {},
     "source": [
      "## Run PLA on the data and observe how the decision boundary changes"
     ]
    },
    {
     "cell_type": "code",
     "collapsed": false,
     "input": [
      "w0 = rand(3)*10"
     ],
     "language": "python",
     "metadata": {},
     "outputs": [
      {
       "metadata": {},
       "output_type": "pyout",
       "prompt_number": 27,
       "text": [
        "3-element Array{Float64,1}:\n",
        " 7.41404\n",
        " 6.04215\n",
        " 5.28556"
       ]
      }
     ],
     "prompt_number": 27
    },
    {
     "cell_type": "code",
     "collapsed": false,
     "input": [
      "function h(w,d)\n",
      "    sign(d*w)\n",
      "end"
     ],
     "language": "python",
     "metadata": {},
     "outputs": [
      {
       "metadata": {},
       "output_type": "pyout",
       "prompt_number": 31,
       "text": [
        "h (generic function with 1 method)"
       ]
      }
     ],
     "prompt_number": 31
    },
    {
     "cell_type": "code",
     "collapsed": false,
     "input": [
      "W = zeros(30,3)\n",
      "W[1,:] = w0\n",
      "for i=2:size(W,1)\n",
      "    H = h(W[i-1,:]',D)\n",
      "    mis = find(H .!= y)\n",
      "    if length(mis) > 0\n",
      "        j = mis[1] # pick first misclassified point\n",
      "        W[i,:] = W[i-1,:] + y[i]*D[i,:]\n",
      "    else\n",
      "        W = W[1:i-1,:]\n",
      "        break\n",
      "    end\n",
      "end\n",
      "\n",
      "W"
     ],
     "language": "python",
     "metadata": {},
     "outputs": [
      {
       "metadata": {},
       "output_type": "pyout",
       "prompt_number": 36,
       "text": [
        "3x3 Array{Float64,2}:\n",
        " 7.41404   6.04215   5.28556 \n",
        " 8.41404   0.855702  1.77597 \n",
        " 9.41404  -4.34368   0.302609"
       ]
      }
     ],
     "prompt_number": 36
    },
    {
     "cell_type": "code",
     "collapsed": false,
     "input": [
      "function drawline(w,style,xmin,xmax,npts=10)\n",
      "    xs = linspace(xmin,xmax,npts)\n",
      "    ys = -w[1]/w[3] - (w[2]/w[3]) * xs\n",
      "    plot(xs,ys,style)\n",
      "end"
     ],
     "language": "python",
     "metadata": {},
     "outputs": [
      {
       "metadata": {},
       "output_type": "pyout",
       "prompt_number": 39,
       "text": [
        "drawline (generic function with 2 methods)"
       ]
      }
     ],
     "prompt_number": 39
    },
    {
     "cell_type": "code",
     "collapsed": false,
     "input": [
      "plot(D1[:,1],D1[:,2],\"ro\")\n",
      "hold(:on)\n",
      "plot(D2[:,1],D2[:,2],\"b+\")\n",
      "\n",
      "xmin = minimum(D[:,2])\n",
      "xmax = maximum(D[:,3])\n",
      "for i = 1:size(W,1)-1\n",
      "    drawline(W[i,:]',\"g--\",xmin,xmax)\n",
      "end\n",
      "drawline(W[end,:]',\"g\",xmin,xmax)\n"
     ],
     "language": "python",
     "metadata": {},
     "outputs": [
      {
       "metadata": {},
       "output_type": "display_data",
       "png": "[encoded data removed]",
       "text": [
        "Figure(PyObject <matplotlib.figure.Figure object at 0x1152ecf90>)"
       ]
      },
      {
       "metadata": {},
       "output_type": "pyout",
       "prompt_number": 43,
       "text": [
        "1-element Array{Any,1}:\n",
        " PyObject <matplotlib.lines.Line2D object at 0x115583b90>"
       ]
      }
     ],
     "prompt_number": 43
    },
    {
     "cell_type": "code",
     "collapsed": false,
     "input": [],
     "language": "python",
     "metadata": {},
     "outputs": []
    }
   ],
   "metadata": {}
  }
 ]
}