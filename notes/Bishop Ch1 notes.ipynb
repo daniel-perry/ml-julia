{
 "metadata": {
  "language": "Julia",
  "name": "",
  "signature": "sha256:7997b4cae29722be4308c1b9b48d8b28c215ae59b2a4a31e1bf44d97e2b04b82"
 },
 "nbformat": 3,
 "nbformat_minor": 0,
 "worksheets": [
  {
   "cells": [
    {
     "cell_type": "markdown",
     "metadata": {},
     "source": [
      "### P1.1\n",
      "\n",
      "Polyomial function (1.1): $y(x,w) = \\sum_{j=0}^M w_j x^j$\n",
      "\n",
      "Sum of squares (1.2): $E(w) = \\frac{1}{2} \\sum_{n=1}^N (y(x_n,w) - t_n)^2 = \\frac{1}{2} \\sum_{n=1}^N (\\sum_{j=0}^M w_j x_n^j - t_n)^2 = \\frac{1}{2} \\sum_{n=1}^N (w^T [x_n^0 x_n^1 \\ldots x_n^M]^T - t_n)^2 = \\frac{1}{2} \\sum_{n=1}^N (w^T X_n - t_n)^2$"
     ]
    },
    {
     "cell_type": "markdown",
     "metadata": {},
     "source": [
      "$\\nabla_w E(w) = \\sum_{n=1}^N (w^T X_n - t_n)(X_n) = 0$"
     ]
    },
    {
     "cell_type": "markdown",
     "metadata": {},
     "source": [
      "$\\Rightarrow  \\sum_{n=1}^N (w^T X_n) X_n = \\sum_{n=1}^N (t_n X_n)$\n",
      "\n",
      "$\\Rightarrow \\sum_{n=1}^N \\sum_{j=0}^M(w_j x_n^j) [x_n^0, x_n^1, \\ldots, x_n^M]^T = \\sum_{n=1}^N (t_n [x_n^0, x_n^1, \\ldots, x_n^M]^T)$\n",
      "\n",
      "\n",
      "Element wise:\n",
      "\n",
      "$\\Rightarrow \\sum_{n=1}^N \\sum_{j=0}^M(w_j x_n^j) x_n^i = \\sum_{n=1}^N (t_n x_n^i)$\n",
      "\n",
      "$= \\sum_{n=1}^N \\sum_{j=0}^M w_j x_n^{j+i} = \\sum_{n=1}^N (t_n x_n^i)$\n",
      "\n",
      "$= \\sum_{j=0}^M w_j \\sum_{n=1}^N  x_n^{j+i} = \\sum_{n=1}^N (t_n x_n^i)$\n",
      "\n",
      "And finally:\n",
      "\n",
      "$\\sum_{j=0}^M A_{ij} w_j = T_i$\n",
      "\n",
      "where\n",
      "\n",
      "$A_{ij} = \\sum_{n=1}^N (x_n)^{i+j}, T_i = \\sum_{n=1}^N (x_n)^i t_n$"
     ]
    },
    {
     "cell_type": "code",
     "collapsed": false,
     "input": [],
     "language": "python",
     "metadata": {},
     "outputs": []
    }
   ],
   "metadata": {}
  }
 ]
}